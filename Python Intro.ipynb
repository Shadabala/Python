{
 "cells": [
  {
   "cell_type": "raw",
   "id": "0d33e560-aba8-4b6e-95c7-dbbfd7fe0f86",
   "metadata": {
    "tags": []
   },
   "source": [
    "# Programming :\n",
    "                Set of code or Instruction pass to a Machine to get any specification output.\n",
    "#### Python Developed by Guido Van Rossum (Belong to Nietherland)\n",
    "Guido love a serial called Monty Python's Flying Circus(broadcast on BBC1) pet name (Monty Python). \n",
    "\t\tTotal number of episodes: 45\n",
    "\t\tFirst episode date: 5 October 1969\n",
    "\t\tFinal episode date: 5 December 1974\n",
    "Python introduce in Market 1991\n",
    "### Client of Python:  Google, Facebook, Instagram, Spotify, Quora, Netflix, Dropbox, Reddit, etc...\n",
    "Python is an easy high-level programming language.           print(\"Hello world\")\n",
    "python support diffent type of coding paradigm(methods)\n",
    "\n",
    "\t1.\tTopline programming\n",
    "\t2. \tProcedural Programming(Imperative programming)    \n",
    "\t3.\tObject Oriented Programming \n",
    "### What can we do after learning python?\n",
    "\n",
    "Artificial Intelligence,\n",
    "Machine Learning Engineer,\n",
    "Deep Learning Engineer,\n",
    "Data Analytics(numpy, pandas, matplotlib),\n",
    "IoT(Internet of Things),\n",
    "Python Web Developer,\n",
    "Python Developer(Desktop Application developer)\n",
    "Python Scripting \n",
    "Web scraping, etc...\n",
    "\n",
    "### Advantages:\n",
    "                Recommendation, Machine Learning, Deep Learning, Python Developer, Web Developer, Python Scripting, Data Scientist,Data Analyst ETC....\n",
    "### Disadvantages :\n",
    "                Execution time High\n",
    "                Mobile application is a bad choice using Python.\n",
    "## Python Installer:\n",
    "**IDLE** :             provide Input and Output.\n",
    "**Interpreter**:       It helps to convert High Level(Hindi, English etc) to Machine Level(Binary Language)\n",
    "**PIP**:               PIP is a package manager for Python packages, or modules if you like.\n",
    "**Standard Library**:  It is a collection of script modules accessible to a Python program to simplify the programming process and removing the need to rewrite commonly used commands\n",
    "**Documentation**:     Python documentation strings (or docstrings) provide a convenient way of associating documentation with Python modules, functions, classes, and methods."
   ]
  },
  {
   "cell_type": "code",
   "execution_count": 1,
   "id": "0ef7db10-8faf-406e-90b8-835496c282d9",
   "metadata": {
    "tags": []
   },
   "outputs": [
    {
     "name": "stdout",
     "output_type": "stream",
     "text": [
      "GFG\n",
      "09-12-2016\n",
      "pratik@geeksforgeeks\n"
     ]
    }
   ],
   "source": [
    "#**Separator is used to end of the print function. default separator is space **\n",
    "#code for disabling the softspace feature\n",
    "print('G','F','G', sep='')\n",
    " \n",
    "#for formatting a date\n",
    "print('09','12','2016', sep='-')\n",
    " \n",
    "#another example\n",
    "print('pratik','geeksforgeeks', sep='@')"
   ]
  },
  {
   "cell_type": "markdown",
   "id": "e5bd5e72-4863-422b-b5d2-659b83818547",
   "metadata": {},
   "source": [
    "##### Separator: default set \"space\" its seperator with ,\n",
    "##### END: default set \\n(new line) "
   ]
  },
  {
   "cell_type": "raw",
   "id": "f393c2f6-4c6f-4946-a036-ec58237dbc35",
   "metadata": {},
   "source": [
    "# Variable :--\n",
    "              its a countainer which use to store the value it may be string , number and float.\n",
    "=>Variable never start with Number.\n",
    "=>Variable never conmtain special character except \"_\"\n",
    "=>Variable should be Readable"
   ]
  },
  {
   "cell_type": "code",
   "execution_count": 2,
   "id": "62331df8-449e-4aff-9630-64a844061e4c",
   "metadata": {},
   "outputs": [
    {
     "name": "stdout",
     "output_type": "stream",
     "text": [
      "10\n"
     ]
    }
   ],
   "source": [
    "_=10\n",
    "print(_)"
   ]
  },
  {
   "cell_type": "code",
   "execution_count": 3,
   "id": "eb3b2608-9744-4217-8892-1764abc306b3",
   "metadata": {},
   "outputs": [
    {
     "name": "stdout",
     "output_type": "stream",
     "text": [
      "10\n"
     ]
    }
   ],
   "source": [
    "print(f\"{_}\")"
   ]
  },
  {
   "cell_type": "markdown",
   "id": "73c1cfbd-b969-4255-aa84-d2bbb133cf34",
   "metadata": {},
   "source": [
    "# Input \n",
    "# If Else Elif"
   ]
  },
  {
   "cell_type": "code",
   "execution_count": 4,
   "id": "3779deed-4b92-40ed-9218-2999880cc96f",
   "metadata": {},
   "outputs": [
    {
     "name": "stdin",
     "output_type": "stream",
     "text": [
      "enter your name Ali\n"
     ]
    },
    {
     "data": {
      "text/plain": [
       "'Ali'"
      ]
     },
     "execution_count": 4,
     "metadata": {},
     "output_type": "execute_result"
    }
   ],
   "source": [
    "input(\"enter your name\")          # input is default of string"
   ]
  },
  {
   "cell_type": "code",
   "execution_count": 5,
   "id": "cadd846f-4d79-4675-9c39-244493b5d1ca",
   "metadata": {},
   "outputs": [
    {
     "name": "stdin",
     "output_type": "stream",
     "text": [
      "Enter 1st Number 45\n",
      "Enter 2nd Number 56\n"
     ]
    },
    {
     "name": "stdout",
     "output_type": "stream",
     "text": [
      "Sum Of these two Number is: 101\n"
     ]
    }
   ],
   "source": [
    "num1=int(input(\"Enter 1st Number\"))      # integer input is get when int()funtion is called\n",
    "num2=int(input(\"Enter 2nd Number\"))\n",
    "print(\"Sum Of these two Number is:\",num1+num2)"
   ]
  },
  {
   "cell_type": "code",
   "execution_count": 6,
   "id": "23b55984-3882-4d31-abd8-ff1ca8d26b47",
   "metadata": {},
   "outputs": [
    {
     "name": "stdin",
     "output_type": "stream",
     "text": [
      "Enter 1st Number: 78\n",
      "Enter 2nd Number: 76\n",
      "Kindly choose one Operation +,-,*,/  : \n"
     ]
    },
    {
     "name": "stdout",
     "output_type": "stream",
     "text": [
      "Sorry , Wrong Operation is selected \n"
     ]
    }
   ],
   "source": [
    "num_1= int(input(\"Enter 1st Number:\"))\n",
    "num_2=int(input(\"Enter 2nd Number:\"))\n",
    "operation= input(\"Kindly choose one Operation +,-,*,/  :\")\n",
    "if operation == '+':\n",
    "    print(\"Sum : \",num_1+num_2)\n",
    "elif operation == '-':\n",
    "    print(\"Substraction :\",num_1-num_2)\n",
    "elif operation == '*':\n",
    "    print(\"Multiply :\", num_1*num_2)\n",
    "elif operation == '/':\n",
    "    print(\"Divide : \", num_1/num_2)\n",
    "else :\n",
    "    print(\"Sorry , Wrong Operation is selected \")\n"
   ]
  },
  {
   "cell_type": "raw",
   "id": "744d6430-6175-44fd-9c0b-dcef657a352d",
   "metadata": {},
   "source": [
    "# DataType :-\n",
    "> String = STR\n",
    "> Integer = int\n",
    "> float\n",
    "> Complex\n",
    "> List\n",
    "> Tuple\n",
    "> Set\n",
    "> Dictionary = dict\n",
    "> Boolean = bool\n",
    "            "
   ]
  },
  {
   "cell_type": "markdown",
   "id": "b55484f5-6336-430b-b62e-3a5470a7cb3e",
   "metadata": {},
   "source": [
    "# String Str: \n",
    "*  a string is a \" set of sequence of character\"\n",
    "* string Constructor is str()\n",
    "* string literal is '',\"\",\"\"\"\"\"\",''''''\n",
    "* string support indexing\n",
    "* string support slicing\n",
    "* string support concatination\n",
    "* string is immutable"
   ]
  },
  {
   "cell_type": "code",
   "execution_count": 7,
   "id": "873ac9c9-86b0-4164-b551-ca66db906a58",
   "metadata": {},
   "outputs": [],
   "source": [
    "a=\"Shadab Alam\""
   ]
  },
  {
   "cell_type": "code",
   "execution_count": 8,
   "id": "94663b5a-4b01-4ac2-9dc0-adfa83bb8fb3",
   "metadata": {},
   "outputs": [
    {
     "data": {
      "text/plain": [
       "'b Alam'"
      ]
     },
     "execution_count": 8,
     "metadata": {},
     "output_type": "execute_result"
    }
   ],
   "source": [
    "a[5:12]           #indexing value always reserve last value and pass the 4 indexing by 5"
   ]
  },
  {
   "cell_type": "code",
   "execution_count": 9,
   "id": "0d454f96-af6d-4561-acde-9e102630b7b8",
   "metadata": {},
   "outputs": [
    {
     "data": {
      "text/plain": [
       "'Shadab Alam'"
      ]
     },
     "execution_count": 9,
     "metadata": {},
     "output_type": "execute_result"
    }
   ],
   "source": [
    "a[::]      #start _index : end+1 index : stepping (1 is default)]"
   ]
  },
  {
   "cell_type": "code",
   "execution_count": 10,
   "id": "9c749760-61df-42dc-9c54-ae8b0094ed15",
   "metadata": {},
   "outputs": [
    {
     "data": {
      "text/plain": [
       "'malA badahS'"
      ]
     },
     "execution_count": 10,
     "metadata": {},
     "output_type": "execute_result"
    }
   ],
   "source": [
    "a[-1:-12:-1]   #indexing are use discreate also "
   ]
  },
  {
   "cell_type": "code",
   "execution_count": 11,
   "id": "9c89f3f2-a131-4cc1-8784-2327021ce76f",
   "metadata": {},
   "outputs": [],
   "source": [
    "a1=\"abcdefghijklmnopqrstuvwxyz\""
   ]
  },
  {
   "cell_type": "code",
   "execution_count": 12,
   "id": "689c86cf-b885-4ff0-b760-62cce036cf79",
   "metadata": {},
   "outputs": [
    {
     "data": {
      "text/plain": [
       "'abcdefghijklmnopqrstuvwxyz'"
      ]
     },
     "execution_count": 12,
     "metadata": {},
     "output_type": "execute_result"
    }
   ],
   "source": [
    "a1[::]"
   ]
  },
  {
   "cell_type": "code",
   "execution_count": 13,
   "id": "68c4d919-9d06-4f9b-a177-d19efd9c81d8",
   "metadata": {},
   "outputs": [
    {
     "data": {
      "text/plain": [
       "'zyxwvutsrqponmlkjihgfedcba'"
      ]
     },
     "execution_count": 13,
     "metadata": {},
     "output_type": "execute_result"
    }
   ],
   "source": [
    "a1[-1:-27:-1]"
   ]
  },
  {
   "cell_type": "code",
   "execution_count": 14,
   "id": "8c2785cf-ddf0-455d-a826-2cc3bfd9f92d",
   "metadata": {
    "tags": []
   },
   "outputs": [],
   "source": [
    "b=\"0123456789\"    "
   ]
  },
  {
   "cell_type": "code",
   "execution_count": 15,
   "id": "4e441d30-eb67-46c7-89ea-96761dd124b7",
   "metadata": {},
   "outputs": [
    {
     "data": {
      "text/plain": [
       "'13579'"
      ]
     },
     "execution_count": 15,
     "metadata": {},
     "output_type": "execute_result"
    }
   ],
   "source": [
    "b[1::2]            #Find the odd number"
   ]
  },
  {
   "cell_type": "code",
   "execution_count": 16,
   "id": "8e4bab8e-7c16-44a4-8920-df07bcc06303",
   "metadata": {},
   "outputs": [
    {
     "data": {
      "text/plain": [
       "'02468'"
      ]
     },
     "execution_count": 16,
     "metadata": {},
     "output_type": "execute_result"
    }
   ],
   "source": [
    "b[0::2]            #Find the Even number"
   ]
  },
  {
   "cell_type": "code",
   "execution_count": 17,
   "id": "d0a66205-7765-48fd-983b-0c7219266130",
   "metadata": {},
   "outputs": [
    {
     "name": "stdout",
     "output_type": "stream",
     "text": [
      "ShadabAlam\n"
     ]
    }
   ],
   "source": [
    "aa=\"Shadab\"\n",
    "ab=\"Alam\"\n",
    "print(aa+ab)      #its called concatination"
   ]
  },
  {
   "cell_type": "code",
   "execution_count": 18,
   "id": "8f85e02c-8868-4ad9-b2bf-0e6610777ac0",
   "metadata": {},
   "outputs": [
    {
     "name": "stdout",
     "output_type": "stream",
     "text": [
      "1054\n"
     ]
    }
   ],
   "source": [
    "a1=\"10\"\n",
    "a11=\"54\"\n",
    "print(a1+a11)"
   ]
  },
  {
   "cell_type": "code",
   "execution_count": 19,
   "id": "5902c292-4d10-4a3a-ae74-c14dee2f1c37",
   "metadata": {},
   "outputs": [
    {
     "data": {
      "text/plain": [
       "['__add__',\n",
       " '__class__',\n",
       " '__contains__',\n",
       " '__delattr__',\n",
       " '__dir__',\n",
       " '__doc__',\n",
       " '__eq__',\n",
       " '__format__',\n",
       " '__ge__',\n",
       " '__getattribute__',\n",
       " '__getitem__',\n",
       " '__getnewargs__',\n",
       " '__gt__',\n",
       " '__hash__',\n",
       " '__init__',\n",
       " '__init_subclass__',\n",
       " '__iter__',\n",
       " '__le__',\n",
       " '__len__',\n",
       " '__lt__',\n",
       " '__mod__',\n",
       " '__mul__',\n",
       " '__ne__',\n",
       " '__new__',\n",
       " '__reduce__',\n",
       " '__reduce_ex__',\n",
       " '__repr__',\n",
       " '__rmod__',\n",
       " '__rmul__',\n",
       " '__setattr__',\n",
       " '__sizeof__',\n",
       " '__str__',\n",
       " '__subclasshook__',\n",
       " 'capitalize',\n",
       " 'casefold',\n",
       " 'center',\n",
       " 'count',\n",
       " 'encode',\n",
       " 'endswith',\n",
       " 'expandtabs',\n",
       " 'find',\n",
       " 'format',\n",
       " 'format_map',\n",
       " 'index',\n",
       " 'isalnum',\n",
       " 'isalpha',\n",
       " 'isascii',\n",
       " 'isdecimal',\n",
       " 'isdigit',\n",
       " 'isidentifier',\n",
       " 'islower',\n",
       " 'isnumeric',\n",
       " 'isprintable',\n",
       " 'isspace',\n",
       " 'istitle',\n",
       " 'isupper',\n",
       " 'join',\n",
       " 'ljust',\n",
       " 'lower',\n",
       " 'lstrip',\n",
       " 'maketrans',\n",
       " 'partition',\n",
       " 'removeprefix',\n",
       " 'removesuffix',\n",
       " 'replace',\n",
       " 'rfind',\n",
       " 'rindex',\n",
       " 'rjust',\n",
       " 'rpartition',\n",
       " 'rsplit',\n",
       " 'rstrip',\n",
       " 'split',\n",
       " 'splitlines',\n",
       " 'startswith',\n",
       " 'strip',\n",
       " 'swapcase',\n",
       " 'title',\n",
       " 'translate',\n",
       " 'upper',\n",
       " 'zfill']"
      ]
     },
     "execution_count": 19,
     "metadata": {},
     "output_type": "execute_result"
    }
   ],
   "source": [
    "dir(a)"
   ]
  },
  {
   "cell_type": "raw",
   "id": "584db062-711d-4c80-ae48-cc5ecc035b03",
   "metadata": {},
   "source": [
    "URL Refrence:====>> https://www.w3schools.com/python/python_ref_string.asp\n",
    "# String Method:_\n",
    "1.capitalize()         =>Converts the first character to upper case\n",
    "2.casefold()           =>method returns a string where all the characters are lower case.similar to the                            lower()\n",
    "3.center()             =>method will center align the string, using a specified character (space is                                default) as the fill character.\n",
    "4.count()              =>method returns the number of times a specified value appears in the string.                               ##string.count(value, start, end)##\n",
    "5.endswith()           =>method returns True if the string ends with the specified value, otherwise                                False.\n",
    "6.expandtabs()        =>method sets the tab size to the specified number of whitespaces.\n",
    "7.find()              =>Searches the string for a specified value and returns the position of where it                           was found, if not find then return -1.same as the index() index give error but                          find give -1\n",
    "8.format()          =>method formats the specified value(s) and insert them inside the string's                                 placeholder.The placeholder is defined using curly brackets: {}.\n",
    "9.isalnum()         =>method returns True if all the characters are alphanumeric, meaning alphabet letter               (a-z) and numbers (0-9). Example of characters that are not alphanumeric: (space)!#%&? etc.\n",
    "10.isalpha()        =>method returns True if all the characters are alphabet letters (a-z).\n",
    "11.isascii()        =>method returns True if all the characters are ascii characters  (a-z).\n",
    "12.isdecimal()      =>method returns True if all the characters are decimals (0-9).\n",
    "13.isdigit()        =>method returns True if all the characters are digits, otherwise False.\n",
    "14.isidentifier()   =>method returns True if the string is a valid identifier, otherwise False.A string                  is considered a valid identifier if it only contains alphanumeric letters (a-z) and (0-9),                or underscores (_). A valid identifier cannot start with a number, or contain any spaces.\n",
    "15.islower()        =>method returns True if all the characters are in lower case, otherwise False.\n",
    "16.isnumeric()      =>method returns True if all the characters are numeric (0-9), otherwise False.\n",
    "17.isprintable() method returns True if all the characters are printable, otherwise False.\n",
    "18.isspace() method returns True if all the characters in a string are whitespaces, otherwise False.\n",
    "19.istitle() method returns True if all words in a text start with a upper case letter, AND the rest of the word are lower case letters, otherwise False.\n",
    "20.isupper() method returns True if all the characters are in upper case, otherwise False.\n",
    "21.join() method takes all items in an iterable and joins them into one string.\n",
    "22.ljust() method will left align the string, using a specified character (space is default) as the fill character.\n",
    "23.lower() method returns a string where all characters are lower case.\n",
    "24.lstrip() method removes any leading characters (space is the default leading character to remove)\n",
    "25.upper() method returns a string where all characters are in upper case.\n",
    "26.partition() method searches for a specified string, and splits the string into a tuple containing three elements.\n",
    "27.replace() method replaces a specified phrase with another specified phrase.\n",
    "28.rfind() method finds the last occurrence of the specified value.return -1 if not find,same as rindex()\n",
    "29.rindex() method finds the last occurrence of the specified value.retun exception,same as rfind()\n",
    "30.rjust() method will right align the string, using a specified character (space is default) as the fill character.\n",
    "31.rpartition() method searches for the last occurrence of a specified string, and splits the string into a tuple containing three elements.\n",
    "32.rsplit() method splits a string into a list, starting from the right.\n",
    "33.rstrip() method removes any trailing characters (characters at the end a string), space is the default trailing character to remove.\n",
    "34.split() method splits a string into a list.You can specify the separator, default separator is any whitespace.\n",
    "35.splitlines() method splits a string into a list. The splitting is done at line breaks.\n",
    "36.startswith() method returns True if the string starts with the specified value, otherwise False.\n",
    "37.strip() method removes any leading (spaces at the beginning) and trailing (spaces at the end) characters.\n",
    "38.swapcase() method returns a string where all the upper case letters are lower case and vice versa.\n",
    "39.title() method returns a string where the first character in every word is upper case. Like a header, or a title.If the word contains a number or a symbol, the first letter after that will be converted to upper case.\n",
    "40.translate() method returns a string where some specified characters are replaced with the character described in a dictionary, or in a mapping table.\n",
    "41.maketrans() method returns a mapping table that can be used with the translate() method to replace specified characters.\n",
    "42.zfill() method adds zeros (0) at the beginning of the string, until it reaches the specified length."
   ]
  },
  {
   "cell_type": "code",
   "execution_count": 12,
   "id": "c7ee6584-bb98-4de0-b7c3-4d299c0e8814",
   "metadata": {},
   "outputs": [
    {
     "name": "stdout",
     "output_type": "stream",
     "text": [
      "nameTESTcountry\n"
     ]
    }
   ],
   "source": []
  },
  {
   "cell_type": "markdown",
   "id": "157d4d08-b99f-44aa-89ef-c03a62704fa6",
   "metadata": {},
   "source": [
    "# Complex"
   ]
  },
  {
   "cell_type": "code",
   "execution_count": 20,
   "id": "31d61dc2-c101-461e-b5da-da81c95d477a",
   "metadata": {},
   "outputs": [],
   "source": [
    "aa=4j"
   ]
  },
  {
   "cell_type": "code",
   "execution_count": 21,
   "id": "395fc14f-d6f7-458f-9f89-a7bd33e4a7fa",
   "metadata": {},
   "outputs": [
    {
     "name": "stdout",
     "output_type": "stream",
     "text": [
      "<class 'complex'>\n"
     ]
    }
   ],
   "source": [
    "print(type(aa))"
   ]
  },
  {
   "cell_type": "code",
   "execution_count": 22,
   "id": "fef82e24-13c9-4746-ad27-f61e11ce345f",
   "metadata": {},
   "outputs": [
    {
     "name": "stdout",
     "output_type": "stream",
     "text": [
      "(30+7j) <class 'complex'>\n",
      "0j\n",
      "0j\n"
     ]
    }
   ],
   "source": [
    "a_1=10+4j\n",
    "b_1=20+3j\n",
    "c_1=a_1+b_1\n",
    "print(a_1+b_1,type(c_1))\n",
    "d=complex()\n",
    "print(d)\n",
    "e=0j\n",
    "print(e)"
   ]
  },
  {
   "cell_type": "raw",
   "id": "8c84afa9-68d8-4d14-8bcb-19aa9573f842",
   "metadata": {},
   "source": [
    "# List\n",
    ">list constructor is list()\n",
    ">list literal is [ ]\n",
    ">list is mutable\n",
    ">list is a set of sequence of element\n",
    ">list support indexing\n",
    ">list support slicing\n",
    ">list support concatination but not broadcasting\n",
    ">list is python array*(only assumption but not behave like array)\n",
    ">list have several methods which makes list mutable(append,copy,clear extend etc)"
   ]
  },
  {
   "cell_type": "code",
   "execution_count": 23,
   "id": "dc586354-1507-4e7c-bf9c-e43571e6afa5",
   "metadata": {},
   "outputs": [
    {
     "name": "stdout",
     "output_type": "stream",
     "text": [
      "[1, 10.0, 'ali', 'Akbar', 'shyam']\n",
      "['shyam', 'Akbar', 'ali']\n",
      "kba\n",
      "['shyam', 'Akbar', 'ali', 10.0, 1]\n"
     ]
    }
   ],
   "source": [
    "l=[1,10.0,'ali','Akbar','shyam']\n",
    "print(l)\n",
    "l[3][2]                    #indexing\n",
    "print(l[-1:-4:-1])         #slicing\n",
    "print(l[3][1:4])           #slicing\n",
    "print(l[::-1])             # Negative slicing\n"
   ]
  },
  {
   "cell_type": "code",
   "execution_count": 24,
   "id": "28d427af-c312-49cb-9c5d-215e917821fb",
   "metadata": {},
   "outputs": [
    {
     "name": "stdout",
     "output_type": "stream",
     "text": [
      "[8, 7, 6, [1, 2, 3, 4], 5, 34, 33]\n",
      "3\n",
      "[3, 4]\n"
     ]
    }
   ],
   "source": [
    "ll=[1,2,3,4,[33,34,5,[1,2,3,4],6,7,8],2,3,54]\n",
    "print(ll[4][::-1])\n",
    "print(ll[4][3][2])\n",
    "print(ll[4][3][2:4:1])"
   ]
  },
  {
   "cell_type": "code",
   "execution_count": 25,
   "id": "3b69cd1c-48d7-48ec-93d4-342fb6137248",
   "metadata": {},
   "outputs": [
    {
     "data": {
      "text/plain": [
       "[1, 2, 3, 4, 10, 5, 6, 3, 2, 4]"
      ]
     },
     "execution_count": 25,
     "metadata": {},
     "output_type": "execute_result"
    }
   ],
   "source": [
    "aa=[1,2,3,4,10]\n",
    "bb=[5,6,3,2,4]              #when 2 or more list add then its concat not broadcast\n",
    "aa+bb"
   ]
  },
  {
   "cell_type": "code",
   "execution_count": 26,
   "id": "d69ce0d8-4df0-466e-9841-54d33e00c409",
   "metadata": {},
   "outputs": [],
   "source": [
    "import numpy as np"
   ]
  },
  {
   "cell_type": "code",
   "execution_count": 27,
   "id": "c98ba293-842c-4b2c-8121-1cd31a84ffdb",
   "metadata": {},
   "outputs": [
    {
     "data": {
      "text/plain": [
       "array([ 6,  8,  6,  6, 14])"
      ]
     },
     "execution_count": 27,
     "metadata": {},
     "output_type": "execute_result"
    }
   ],
   "source": [
    "a=np.array([1,2,3,4,10])\n",
    "b=np.array([5,6,3,2,4])    # when add two array its broadcast not concate\n",
    "a+b\n"
   ]
  },
  {
   "cell_type": "code",
   "execution_count": 28,
   "id": "c360cfd1-0fa2-4572-9217-bbb3a850db62",
   "metadata": {},
   "outputs": [
    {
     "data": {
      "text/plain": [
       "['__add__',\n",
       " '__class__',\n",
       " '__class_getitem__',\n",
       " '__contains__',\n",
       " '__delattr__',\n",
       " '__delitem__',\n",
       " '__dir__',\n",
       " '__doc__',\n",
       " '__eq__',\n",
       " '__format__',\n",
       " '__ge__',\n",
       " '__getattribute__',\n",
       " '__getitem__',\n",
       " '__gt__',\n",
       " '__hash__',\n",
       " '__iadd__',\n",
       " '__imul__',\n",
       " '__init__',\n",
       " '__init_subclass__',\n",
       " '__iter__',\n",
       " '__le__',\n",
       " '__len__',\n",
       " '__lt__',\n",
       " '__mul__',\n",
       " '__ne__',\n",
       " '__new__',\n",
       " '__reduce__',\n",
       " '__reduce_ex__',\n",
       " '__repr__',\n",
       " '__reversed__',\n",
       " '__rmul__',\n",
       " '__setattr__',\n",
       " '__setitem__',\n",
       " '__sizeof__',\n",
       " '__str__',\n",
       " '__subclasshook__',\n",
       " 'append',\n",
       " 'clear',\n",
       " 'copy',\n",
       " 'count',\n",
       " 'extend',\n",
       " 'index',\n",
       " 'insert',\n",
       " 'pop',\n",
       " 'remove',\n",
       " 'reverse',\n",
       " 'sort']"
      ]
     },
     "execution_count": 28,
     "metadata": {},
     "output_type": "execute_result"
    }
   ],
   "source": [
    "dir(aa)"
   ]
  },
  {
   "cell_type": "code",
   "execution_count": 29,
   "id": "e6e39259-bd0e-4470-a68b-1c04defa0ba3",
   "metadata": {},
   "outputs": [],
   "source": [
    "A=\"krishna\"\n",
    "B=\"krishna\""
   ]
  },
  {
   "cell_type": "code",
   "execution_count": 30,
   "id": "60b0e20b-a701-4251-9ce6-d0c8b7436e52",
   "metadata": {},
   "outputs": [
    {
     "name": "stdout",
     "output_type": "stream",
     "text": [
      "1913240582064\n",
      "1913240582064\n"
     ]
    }
   ],
   "source": [
    "print(id(A))  #jb 2 variable ka data same hotah to python ek ko hi memory me store krke dusre wale ko pehle wale ka refrence de deta h jisse dono ki ID same ho jati h\n",
    "print(id(B))"
   ]
  },
  {
   "cell_type": "code",
   "execution_count": 31,
   "id": "be569851-213f-49f1-a6a4-3b78182d6a17",
   "metadata": {},
   "outputs": [
    {
     "name": "stdout",
     "output_type": "stream",
     "text": [
      "[1, 2, 3, 4, 5, 6, 7, 8, 1000] [1, 2, 3, 4, 5, 6, 7, 8, 1000]\n"
     ]
    }
   ],
   "source": [
    "AA=[1,2,3,4,5,6,7,8]\n",
    "BB=AA          # jb dono same hoge to dono ka address same hoga isliye ek ko change kro to dusra bi hoga  ise Refrencing method khte h\n",
    "BB.append(1000)\n",
    "print(AA,BB)"
   ]
  },
  {
   "cell_type": "code",
   "execution_count": 32,
   "id": "007ca88a-e5a6-44ff-9f6b-264694090a11",
   "metadata": {},
   "outputs": [],
   "source": [
    "BB=AA.copy()      # copy method use krne se dono ka adress alag ho jayega jisse sirf ek mehi apped hoga"
   ]
  },
  {
   "cell_type": "code",
   "execution_count": 33,
   "id": "0a57ab34-efaf-4733-9e5f-dab35e53722f",
   "metadata": {},
   "outputs": [
    {
     "name": "stdout",
     "output_type": "stream",
     "text": [
      "[1, 2, 3, 4, 5, 6, 7, 8, 1000] [1, 2, 3, 4, 5, 6, 7, 8, 1000, 'krishna']\n"
     ]
    }
   ],
   "source": [
    "BB.append(\"krishna\")\n",
    "print(AA,BB)"
   ]
  },
  {
   "cell_type": "code",
   "execution_count": 34,
   "id": "97e05154-1cf4-4682-ae6d-f3134a02e767",
   "metadata": {},
   "outputs": [
    {
     "name": "stdout",
     "output_type": "stream",
     "text": [
      "1913219493824 1913219429568\n"
     ]
    }
   ],
   "source": [
    "print(id(AA),id(BB))"
   ]
  },
  {
   "cell_type": "raw",
   "id": "057bfcdd-7a00-47e0-b3c6-b65fc59e9303",
   "metadata": {},
   "source": [
    "# List Method:-\n",
    "1.append() method appends an element to the end of the list.\n",
    "2.clear() method removes all the elements from a list.\n",
    "3.copy() method returns a copy of the specified list.\n",
    "4.count() method returns the number of elements with the specified value. list.count(value) #count me value pass krte h jisko count krna hota \n",
    "5.extend() method adds the specified list elements (or any iterable) to the end of the current list.\n",
    "6.index() method returns the position at the first occurrence of the specified value.\n",
    "7.insert() method inserts the specified value at the specified position.list.insert(pos, elmnt)\n",
    "8.pop() method removes the element at the specified position.list.pop(pos)\n",
    "9.remove() method removes the first occurrence of the element with the specified value.list.remove(elmnt)\n",
    "10.reverse() method reverses the sorting order of the elements.\n",
    "11.sort() method sorts the list ascending by default.\n",
    "\n",
    "You can also make a function to decide the sorting criteria(s)."
   ]
  },
  {
   "cell_type": "markdown",
   "id": "d54307e0-7b44-4440-8422-00f27433250f",
   "metadata": {},
   "source": [
    "# Tuple\n",
    ">tuple constructor is tuple()\n",
    ">tuple literal is ()\n",
    ">tuple is immutable\n",
    ">tuple support Indexing\n",
    ">tuple support slicing\n",
    ">tuple is faster then list\n",
    "  "
   ]
  },
  {
   "cell_type": "code",
   "execution_count": 35,
   "id": "a093aac1-ae0f-41a4-8bbd-db4ffb2f006b",
   "metadata": {},
   "outputs": [],
   "source": [
    "a111=(9,9,0) #lecture_9i"
   ]
  },
  {
   "cell_type": "code",
   "execution_count": 36,
   "id": "0ce748c0-f8c5-48d2-a8a9-c234bbfcef10",
   "metadata": {},
   "outputs": [
    {
     "data": {
      "text/plain": [
       "['__add__',\n",
       " '__class__',\n",
       " '__class_getitem__',\n",
       " '__contains__',\n",
       " '__delattr__',\n",
       " '__dir__',\n",
       " '__doc__',\n",
       " '__eq__',\n",
       " '__format__',\n",
       " '__ge__',\n",
       " '__getattribute__',\n",
       " '__getitem__',\n",
       " '__getnewargs__',\n",
       " '__gt__',\n",
       " '__hash__',\n",
       " '__init__',\n",
       " '__init_subclass__',\n",
       " '__iter__',\n",
       " '__le__',\n",
       " '__len__',\n",
       " '__lt__',\n",
       " '__mul__',\n",
       " '__ne__',\n",
       " '__new__',\n",
       " '__reduce__',\n",
       " '__reduce_ex__',\n",
       " '__repr__',\n",
       " '__rmul__',\n",
       " '__setattr__',\n",
       " '__sizeof__',\n",
       " '__str__',\n",
       " '__subclasshook__',\n",
       " 'count',\n",
       " 'index']"
      ]
     },
     "execution_count": 36,
     "metadata": {},
     "output_type": "execute_result"
    }
   ],
   "source": [
    "dir(a111)"
   ]
  },
  {
   "cell_type": "raw",
   "id": "3fbff0ed-198c-4ae8-9512-a212ad9c66ff",
   "metadata": {},
   "source": [
    "# Tuple Method:_\n",
    "1.count() method returns the number of times a specified value appears in the tuple.count\n",
    "2.index() method finds the first occurrence of the specified value.but exception when value not available"
   ]
  },
  {
   "cell_type": "raw",
   "id": "19f5e521-0d3e-49f9-aeef-81d13593c835",
   "metadata": {},
   "source": [
    "# Set:-\n",
    ">Set Constructor is Set()\n",
    ">set iterator is {}\n",
    ">Set is an unordered set of sequence of element\n",
    ">Set is mutable\n",
    ">set doesnot support duplicate value\n",
    ">set work on hashing table\n",
    ">set doesnot support indexing and slicing"
   ]
  },
  {
   "cell_type": "raw",
   "id": "d22a63e0-fe0f-431f-9409-beb786ee28ab",
   "metadata": {},
   "source": [
    "# Set Method:-\n",
    "\n",
    "add()\tAdds an element to the set\n",
    "clear()\tRemoves all the elements from the set\n",
    "copy()\tReturns a copy of the set\n",
    "difference()\tReturns a set containing the difference between two or more sets\n",
    "difference_update()\tRemoves the items in this set that are also included in another, specified set\n",
    "discard()\tRemove the specified item\n",
    "intersection()\tReturns a set, that is the intersection of two or more sets\n",
    "intersection_update()\tRemoves the items in this set that are not present in other, specified set(s)\n",
    "isdisjoint()\tReturns whether two sets have a intersection or not\n",
    "issubset()\tReturns whether another set contains this set or not\n",
    "issuperset()\tReturns whether this set contains another set or not\n",
    "pop()\tRemoves an element from the set\n",
    "remove()\tRemoves the specified element\n",
    "symmetric_difference()\tReturns a set with the symmetric differences of two sets\n",
    "symmetric_difference_update()\tinserts the symmetric differences from this set and another\n",
    "union()\tReturn a set containing the union of sets\n",
    "update()\tUpdate the set with another set, or any other iterable\n"
   ]
  },
  {
   "cell_type": "raw",
   "id": "ce591d2c-2b00-4498-b7ce-0f640011c14c",
   "metadata": {},
   "source": [
    "# Dictionary:-\n",
    ">Dictionary constructor is dict()\n",
    ">Dictionary literalis {}\n",
    ">Dictionary is part of key: value seperated by\",\"\n",
    ">Dictionary is mutable\n",
    ">Dictionary key behave like index\n",
    ">Dictionary key must be Unique\n",
    ">Dictionary have a lot of method"
   ]
  },
  {
   "cell_type": "code",
   "execution_count": 45,
   "id": "d777f13b-9b1a-407b-8168-7089a9349776",
   "metadata": {},
   "outputs": [],
   "source": [
    "d={1:'Rohit',2:'Rohan',3:'Krishna',4:'Sumit'}"
   ]
  },
  {
   "cell_type": "code",
   "execution_count": 46,
   "id": "403472b3-86ad-40d0-82e7-6c55a0642215",
   "metadata": {},
   "outputs": [
    {
     "data": {
      "text/plain": [
       "{1: 'Rohit', 2: 'Rohan', 3: 'Krishna', 4: 'Sumit'}"
      ]
     },
     "execution_count": 46,
     "metadata": {},
     "output_type": "execute_result"
    }
   ],
   "source": [
    "d"
   ]
  },
  {
   "cell_type": "code",
   "execution_count": 47,
   "id": "818d37b6-b729-419e-b9c5-34e2065dbe5b",
   "metadata": {},
   "outputs": [],
   "source": [
    "d[1]=['Rohit','Raj','Pushpa']"
   ]
  },
  {
   "cell_type": "code",
   "execution_count": 48,
   "id": "910aca48-555b-4dd5-9937-70432b951c8b",
   "metadata": {},
   "outputs": [],
   "source": [
    "d[2]={'Name':'Rohan','Father':'Murari','Mother':'Amita'}"
   ]
  },
  {
   "cell_type": "code",
   "execution_count": 50,
   "id": "695d6d49-4e36-4530-a52e-76c3ac9d9927",
   "metadata": {},
   "outputs": [],
   "source": [
    "d[4]=(\"Sumit\",\"Surendra\",\"Payal\")"
   ]
  },
  {
   "cell_type": "code",
   "execution_count": 51,
   "id": "1bd6def4-4aa7-4d28-829a-13770fe39cc3",
   "metadata": {},
   "outputs": [
    {
     "data": {
      "text/plain": [
       "{1: ['Rohit', 'Raj', 'Pushpa'],\n",
       " 2: {'Name': 'Rohan', 'Father': 'Murari', 'Mother': 'Amita'},\n",
       " 3: 'Krishna',\n",
       " 4: ('Sumit', 'Surendra', 'Payal')}"
      ]
     },
     "execution_count": 51,
     "metadata": {},
     "output_type": "execute_result"
    }
   ],
   "source": [
    "d"
   ]
  },
  {
   "cell_type": "code",
   "execution_count": 58,
   "id": "d708e5d0-da55-4f35-87ca-d24c7700b70a",
   "metadata": {},
   "outputs": [
    {
     "data": {
      "text/plain": [
       "'Amita'"
      ]
     },
     "execution_count": 58,
     "metadata": {},
     "output_type": "execute_result"
    }
   ],
   "source": [
    "d[2]['Mother']"
   ]
  },
  {
   "cell_type": "raw",
   "id": "53e21dd4-de5d-4292-9409-82a17c340828",
   "metadata": {},
   "source": [
    "# Dictionary Methods:-\n",
    "\n",
    "Method\tDescription\n",
    "clear()\tRemoves all the elements from the dictionary\n",
    "copy()\tReturns a copy of the dictionary\n",
    "fromkeys()\tReturns a dictionary with the specified keys and value\n",
    "get()\tReturns the value of the specified key\n",
    "items()\tReturns a list containing a tuple for each key value pair\n",
    "keys()\tReturns a list containing the dictionary's keys\n",
    "pop()\tRemoves the element with the specified key\n",
    "popitem()\tRemoves the last inserted key-value pair\n",
    "setdefault()\tReturns the value of the specified key. If the key does not exist: insert the key, with the specified value\n",
    "update()\tUpdates the dictionary with the specified key-value pairs\n",
    "values()\tReturns a list of all the values in the dictionary"
   ]
  },
  {
   "cell_type": "markdown",
   "id": "f8f81e0d-fa92-4135-a8b2-f00972079d71",
   "metadata": {},
   "source": [
    "# Bool:-\n",
    "> Bool datatype return either True or False\n",
    ">Bool constructor is bool()"
   ]
  },
  {
   "cell_type": "markdown",
   "id": "8f70fef5-28b2-4e0a-a6a4-d0297875ec01",
   "metadata": {},
   "source": [
    "# Casting:-\n",
    "            Conversion of data from one form to another form."
   ]
  },
  {
   "cell_type": "code",
   "execution_count": 62,
   "id": "fd48870e-b851-44f0-a709-759eb10ee13a",
   "metadata": {},
   "outputs": [
    {
     "data": {
      "text/plain": [
       "10"
      ]
     },
     "execution_count": 62,
     "metadata": {},
     "output_type": "execute_result"
    }
   ],
   "source": [
    "a=10\n",
    "a"
   ]
  },
  {
   "cell_type": "code",
   "execution_count": 65,
   "id": "704ae583-022c-43c1-b9d2-c9e7f2525f75",
   "metadata": {},
   "outputs": [
    {
     "data": {
      "text/plain": [
       "10.0"
      ]
     },
     "execution_count": 65,
     "metadata": {},
     "output_type": "execute_result"
    }
   ],
   "source": [
    "b=float(a)\n",
    "b"
   ]
  },
  {
   "cell_type": "code",
   "execution_count": 66,
   "id": "1215cb44-8cef-488c-adfd-a1ebfd8be0cf",
   "metadata": {},
   "outputs": [
    {
     "data": {
      "text/plain": [
       "'10.0'"
      ]
     },
     "execution_count": 66,
     "metadata": {},
     "output_type": "execute_result"
    }
   ],
   "source": [
    "c=str(b)\n",
    "c"
   ]
  },
  {
   "cell_type": "code",
   "execution_count": 70,
   "id": "e412ad7f-78d8-4c3a-83d0-ae9e09168167",
   "metadata": {},
   "outputs": [
    {
     "data": {
      "text/plain": [
       "10"
      ]
     },
     "execution_count": 70,
     "metadata": {},
     "output_type": "execute_result"
    }
   ],
   "source": [
    "d=int(float(c))\n",
    "d"
   ]
  },
  {
   "cell_type": "markdown",
   "id": "90e49474-91ed-450c-bc50-1479c75c4f46",
   "metadata": {
    "slideshow": {
     "slide_type": "fragment"
    },
    "tags": []
   },
   "source": [
    "# Loop:-\n",
    "          loops are two type:\n",
    "### For Loop:-\n",
    ">When number of iteration is known\n",
    ">With the for loop we can execute a set of statements, once for each item in a list, tuple, set etc.\n",
    "### While Loop:-\n",
    ">When Number of iteration is not known"
   ]
  },
  {
   "cell_type": "code",
   "execution_count": 13,
   "id": "3a646067-3473-42e9-a0d1-2e5317de1b92",
   "metadata": {},
   "outputs": [
    {
     "name": "stdout",
     "output_type": "stream",
     "text": [
      "1 I Love You\n",
      "2 I Love You\n",
      "3 I Love You\n",
      "4 I Love You\n",
      "5 I Love You\n",
      "6 I Love You\n",
      "7 I Love You\n",
      "8 I Love You\n",
      "9 I Love You\n"
     ]
    }
   ],
   "source": [
    "for i in range(1,10,1):     # for and Whileis known as iterator and i is iterate and range is iterable\n",
    "    print(i ,\"I Love You\")"
   ]
  },
  {
   "cell_type": "code",
   "execution_count": 14,
   "id": "2af50656-27b2-4b64-a74b-b55a3974a29c",
   "metadata": {},
   "outputs": [
    {
     "name": "stdout",
     "output_type": "stream",
     "text": [
      "1 I Love You\n",
      "2 I Love You\n",
      "3 I Love You\n",
      "4 I Love You\n",
      "5 I Love You\n",
      "6 I Love You\n",
      "7 I Love You\n",
      "8 I Love You\n",
      "9 I Love You\n"
     ]
    }
   ],
   "source": [
    "for i in range(1,10,1):\n",
    "    if i==4:\n",
    "        pass                       # pass is use to pass the value and conmplete the loop\n",
    "    print(i ,\"I Love You\")"
   ]
  },
  {
   "cell_type": "code",
   "execution_count": 19,
   "id": "5a8ddd44-2a8f-4a0d-81e6-ab46fd114c22",
   "metadata": {},
   "outputs": [
    {
     "name": "stdout",
     "output_type": "stream",
     "text": [
      "1 I Love You\n",
      "2 I Love You\n",
      "3 I Love You\n",
      "Hello \n",
      "5 I Love You\n",
      "6 I Love You\n",
      "7 I Love You\n",
      "8 I Love You\n",
      "9 I Love You\n"
     ]
    }
   ],
   "source": [
    "for i in range(1,10,1):\n",
    "    if i==4:\n",
    "        print(\"Hello \")\n",
    "        continue          #continue send for next to  the loop again and skip the next step\n",
    "    print(i ,\"I Love You\")"
   ]
  },
  {
   "cell_type": "code",
   "execution_count": 16,
   "id": "063d7ee5-dc6b-4dad-b288-a46e034df734",
   "metadata": {},
   "outputs": [
    {
     "name": "stdout",
     "output_type": "stream",
     "text": [
      "1 I Love You\n",
      "2 I Love You\n",
      "3 I Love You\n"
     ]
    }
   ],
   "source": [
    "for i in range(1,10,1):\n",
    "    if i==4:\n",
    "        break               #break is use to end the loop if condition is satisfied\n",
    "    print(i ,\"I Love You\")"
   ]
  },
  {
   "cell_type": "code",
   "execution_count": 3,
   "id": "682ab530-5638-4569-994f-751d1df91575",
   "metadata": {},
   "outputs": [
    {
     "name": "stdout",
     "output_type": "stream",
     "text": [
      "S\n",
      "h\n",
      "a\n",
      "d\n",
      "a\n",
      "b\n",
      " \n",
      "A\n",
      "l\n",
      "a\n",
      "m\n"
     ]
    }
   ],
   "source": [
    "a=\"Shadab Alam\"\n",
    "for i in a:\n",
    "    print(i)"
   ]
  },
  {
   "cell_type": "code",
   "execution_count": 6,
   "id": "f9ea5faa-9c33-4fc4-bfc2-b0fcb4196fd7",
   "metadata": {},
   "outputs": [
    {
     "name": "stdout",
     "output_type": "stream",
     "text": [
      "Shadab\n",
      "Alam\n",
      "ansari\n"
     ]
    }
   ],
   "source": [
    "a=['Shadab','Alam','ansari']\n",
    "for i in a:\n",
    "    print(i)"
   ]
  },
  {
   "cell_type": "code",
   "execution_count": 7,
   "id": "1c6b2e78-0e4b-48d8-bc40-119bf667a5b5",
   "metadata": {},
   "outputs": [
    {
     "name": "stdout",
     "output_type": "stream",
     "text": [
      "Shadab\n",
      "Alam\n",
      "ansari\n"
     ]
    }
   ],
   "source": [
    "a=('Shadab','Alam','ansari')\n",
    "for i in a:\n",
    "    print(i)"
   ]
  },
  {
   "cell_type": "code",
   "execution_count": 8,
   "id": "c77394e3-a214-4b5b-a825-501a0b560acd",
   "metadata": {},
   "outputs": [
    {
     "name": "stdout",
     "output_type": "stream",
     "text": [
      "Shadab\n",
      "Alam\n",
      "ansari\n"
     ]
    }
   ],
   "source": [
    "a={'Shadab','Alam','ansari'}\n",
    "for i in a:\n",
    "    print(i)"
   ]
  },
  {
   "cell_type": "code",
   "execution_count": 10,
   "id": "1ead6f71-d4ee-452b-a4c0-db5c87aca69c",
   "metadata": {},
   "outputs": [
    {
     "name": "stdout",
     "output_type": "stream",
     "text": [
      "1 Shadab\n",
      "2 Alam\n",
      "3 ansari\n"
     ]
    }
   ],
   "source": [
    "a={1:'Shadab',2:'Alam',3:'ansari'}\n",
    "for i in a:\n",
    "    print(i,a[i])"
   ]
  },
  {
   "cell_type": "markdown",
   "id": "a86c50f8-b034-4bc8-8981-2f66cc27294b",
   "metadata": {},
   "source": [
    "# Pattern:-\n",
    "https://pynative.com/print-pattern-python-examples/\n"
   ]
  },
  {
   "cell_type": "code",
   "execution_count": 29,
   "id": "1bf1da67-c458-4727-8016-df7ff3a8c4bb",
   "metadata": {},
   "outputs": [
    {
     "name": "stdout",
     "output_type": "stream",
     "text": [
      "1 1 1 1 1 \n",
      "2 2 2 2 \n",
      "3 3 3 \n",
      "4 4 \n",
      "5 \n"
     ]
    }
   ],
   "source": [
    "rows = 5\n",
    "b = 0\n",
    "# reverse for loop from 5 to 0\n",
    "for i in range(rows, 0,-1):\n",
    "    b += 1\n",
    "    for j in range(1, i + 1):\n",
    "        print(b, end=' ')\n",
    "    print('\\r')"
   ]
  },
  {
   "cell_type": "code",
   "execution_count": 12,
   "id": "1e055504-f9ed-488b-9065-b55d6f94458d",
   "metadata": {},
   "outputs": [
    {
     "name": "stdout",
     "output_type": "stream",
     "text": [
      "* \n",
      "* * \n",
      "* * * \n",
      "* * * * \n",
      "* * * * * \n"
     ]
    }
   ],
   "source": [
    "rows = 5\n",
    "for i in range(0, rows):\n",
    "    # nested loop for each column\n",
    "    for j in range(0, i + 1):\n",
    "        # print star\n",
    "        print(\"*\", end=' ')\n",
    "    # new line after each row\n",
    "    print(\"\\r\")"
   ]
  },
  {
   "cell_type": "code",
   "execution_count": 31,
   "id": "3bc37126-a0ad-4ab7-843a-7ca3be0ad364",
   "metadata": {},
   "outputs": [
    {
     "name": "stdout",
     "output_type": "stream",
     "text": [
      "*****\n",
      "****\n",
      "***\n",
      "**\n",
      "*\n"
     ]
    }
   ],
   "source": [
    "for i in range(5,0,-1):\n",
    "    for j in range(i):\n",
    "        print('*',end=\"\")\n",
    "    print()"
   ]
  },
  {
   "cell_type": "markdown",
   "id": "27dc36a2-1f7a-4d7d-8cb8-f529289998d6",
   "metadata": {},
   "source": [
    "# Function():-\n",
    "                A function is a block of code which only runs when it is called.\n",
    "\n",
    "You can pass data, known as parameters, into a function.\n",
    "\n",
    "A function can return data as a result."
   ]
  },
  {
   "cell_type": "code",
   "execution_count": 13,
   "id": "f20a181a-7432-4025-ae68-3e100f3eff97",
   "metadata": {},
   "outputs": [],
   "source": [
    "def hello():                   # define a funtion\n",
    "    for i in range(5):\n",
    "        print(\"Hello World\")"
   ]
  },
  {
   "cell_type": "code",
   "execution_count": 18,
   "id": "56326594-9694-4bcf-8520-068b746a59fc",
   "metadata": {},
   "outputs": [
    {
     "name": "stdout",
     "output_type": "stream",
     "text": [
      "Hello World\n",
      "Hello World\n",
      "Hello World\n",
      "Hello World\n",
      "Hello World\n"
     ]
    }
   ],
   "source": [
    "hello()       # calling a funtion"
   ]
  },
  {
   "cell_type": "code",
   "execution_count": 22,
   "id": "e4197c96-6acf-4f04-9811-5e59f7a3f3aa",
   "metadata": {},
   "outputs": [],
   "source": [
    "def new_hello(n):            # n is called parameter, when n is called by function and passed its called argument\n",
    "    for i in range(n):\n",
    "        print(\"Love you\")"
   ]
  },
  {
   "cell_type": "code",
   "execution_count": 23,
   "id": "b3c8bcf4-5bdd-4d8a-934e-16d642b93b5b",
   "metadata": {},
   "outputs": [
    {
     "ename": "TypeError",
     "evalue": "new_hello() missing 1 required positional argument: 'n'",
     "output_type": "error",
     "traceback": [
      "\u001b[1;31m---------------------------------------------------------------------------\u001b[0m",
      "\u001b[1;31mTypeError\u001b[0m                                 Traceback (most recent call last)",
      "\u001b[1;32m~\\AppData\\Local\\Temp\\ipykernel_7148\\3503846821.py\u001b[0m in \u001b[0;36m<module>\u001b[1;34m\u001b[0m\n\u001b[1;32m----> 1\u001b[1;33m \u001b[0mnew_hello\u001b[0m\u001b[1;33m(\u001b[0m\u001b[1;33m)\u001b[0m\u001b[1;33m\u001b[0m\u001b[1;33m\u001b[0m\u001b[0m\n\u001b[0m",
      "\u001b[1;31mTypeError\u001b[0m: new_hello() missing 1 required positional argument: 'n'"
     ]
    }
   ],
   "source": [
    "new_hello()"
   ]
  },
  {
   "cell_type": "code",
   "execution_count": 24,
   "id": "21355200-0fc1-4f5a-b842-f2d3c736e733",
   "metadata": {},
   "outputs": [
    {
     "name": "stdout",
     "output_type": "stream",
     "text": [
      "Love you\n",
      "Love you\n",
      "Love you\n",
      "Love you\n",
      "Love you\n",
      "Love you\n",
      "Love you\n",
      "Love you\n",
      "Love you\n",
      "Love you\n"
     ]
    }
   ],
   "source": [
    "new_hello(10)       # n=10 is called argument"
   ]
  },
  {
   "cell_type": "code",
   "execution_count": 25,
   "id": "eb03fb86-3670-4f18-a13b-d4e815b536c6",
   "metadata": {},
   "outputs": [],
   "source": [
    "def new_hello(n=5):           # n=5 called keyword argument when its passed then default set for given value\n",
    "    for i in range (n):\n",
    "        print(\"Love you\")"
   ]
  },
  {
   "cell_type": "code",
   "execution_count": 29,
   "id": "5b1d876b-37d2-44d0-8c73-dc0138ebdf51",
   "metadata": {},
   "outputs": [
    {
     "name": "stdout",
     "output_type": "stream",
     "text": [
      "Love you\n",
      "Love you\n",
      "Love you\n",
      "Love you\n",
      "Love you\n"
     ]
    }
   ],
   "source": [
    "new_hello()     # Keyword argument 5 is default when didnot give any argument its print 5"
   ]
  },
  {
   "cell_type": "code",
   "execution_count": 30,
   "id": "32a56b4b-e0c5-4d03-9228-1985263fb44d",
   "metadata": {},
   "outputs": [
    {
     "name": "stdout",
     "output_type": "stream",
     "text": [
      "Love you\n",
      "Love you\n"
     ]
    }
   ],
   "source": [
    "new_hello(2)    # Keyword argument passed 2 then printonly 2 values"
   ]
  },
  {
   "cell_type": "code",
   "execution_count": 31,
   "id": "0cc4a785-14f1-4e19-b075-b142a982b728",
   "metadata": {},
   "outputs": [],
   "source": [
    "def pattern(n=5):\n",
    "    for i in range(n):\n",
    "        for j in range (i+1):\n",
    "            print(\"*\",end=(\"\"))\n",
    "        print()"
   ]
  },
  {
   "cell_type": "code",
   "execution_count": 33,
   "id": "da24ff0a-b073-42dd-96df-a83d1407fe4b",
   "metadata": {},
   "outputs": [
    {
     "name": "stdout",
     "output_type": "stream",
     "text": [
      "*\n",
      "**\n",
      "***\n",
      "****\n",
      "*****\n",
      "******\n",
      "*******\n"
     ]
    }
   ],
   "source": [
    "pattern(7)"
   ]
  },
  {
   "cell_type": "code",
   "execution_count": 40,
   "id": "6e59c6fc-05b8-4d47-91c8-d8d2d14ce864",
   "metadata": {},
   "outputs": [],
   "source": [
    "def Pattern():\n",
    "    n=int(input(\"Enter A number required to print pattern:\"))\n",
    "    for i in range (n):\n",
    "        for j in range (i+1):\n",
    "            print(\"*\",end=(\"\"))\n",
    "        print()"
   ]
  },
  {
   "cell_type": "code",
   "execution_count": 41,
   "id": "ee922290-a991-4eeb-a021-9ca703a79660",
   "metadata": {},
   "outputs": [
    {
     "name": "stdin",
     "output_type": "stream",
     "text": [
      "Enter A number required to print pattern: 5\n"
     ]
    },
    {
     "name": "stdout",
     "output_type": "stream",
     "text": [
      "*\n",
      "**\n",
      "***\n",
      "****\n",
      "*****\n"
     ]
    }
   ],
   "source": [
    "Pattern()"
   ]
  },
  {
   "cell_type": "code",
   "execution_count": 3,
   "id": "a81a5e66-cc49-4e4b-9273-52518187b5b9",
   "metadata": {},
   "outputs": [],
   "source": [
    "def add(a,b):\n",
    "    print(\"Sum is both Number: \",a+b)\n",
    "    print(\"Minus:\",a-b)\n",
    "    print(\"Multiply :\",a*b)\n",
    "    print(\"Divide :\",a/b)"
   ]
  },
  {
   "cell_type": "code",
   "execution_count": 4,
   "id": "c866992c-4cd7-4121-85a8-60960bb350cd",
   "metadata": {},
   "outputs": [
    {
     "name": "stdout",
     "output_type": "stream",
     "text": [
      "Sum is both Number:  14\n",
      "Minus: -4\n",
      "Multiply : 45\n",
      "Divide : 0.5555555555555556\n"
     ]
    }
   ],
   "source": [
    "add(5,9)"
   ]
  },
  {
   "cell_type": "code",
   "execution_count": 11,
   "id": "66fe5ac3-7522-4458-ba43-d38e82163976",
   "metadata": {},
   "outputs": [],
   "source": [
    "def add1():\n",
    "    a=[2,3,4,5,67,788,8,8,5,90]\n",
    "    b=0\n",
    "    for i in a:\n",
    "        b=b+i\n",
    "    print(\"Sum Of List:\",b)"
   ]
  },
  {
   "cell_type": "code",
   "execution_count": 12,
   "id": "83e7cfbb-d7d4-4743-8b73-d88b1f392a64",
   "metadata": {},
   "outputs": [
    {
     "name": "stdout",
     "output_type": "stream",
     "text": [
      "Sum Of List: 980\n"
     ]
    }
   ],
   "source": [
    "add1()"
   ]
  },
  {
   "cell_type": "code",
   "execution_count": 20,
   "id": "f4e904ba-4f33-46d2-b0bd-e07537346a95",
   "metadata": {},
   "outputs": [],
   "source": [
    "def add1(a):\n",
    "    b=0\n",
    "    for i in a:\n",
    "        b=b+i\n",
    "    print(\"Sum Of List:\",b)"
   ]
  },
  {
   "cell_type": "code",
   "execution_count": 21,
   "id": "53ba10e7-273d-4d86-9060-58933b1d48bf",
   "metadata": {},
   "outputs": [
    {
     "name": "stdout",
     "output_type": "stream",
     "text": [
      "Sum Of List: 89\n"
     ]
    }
   ],
   "source": [
    "add1([2,3,4,5,67,8])"
   ]
  },
  {
   "cell_type": "code",
   "execution_count": 25,
   "id": "2aa56cd0-6b31-440e-884b-3bae423acfe2",
   "metadata": {},
   "outputs": [],
   "source": [
    "def add1(*a):         # * is used for accept multiple argument in function\n",
    "    b=0\n",
    "    for i in a:\n",
    "        b=b+i\n",
    "    print(\"Sum Of List:\",b)"
   ]
  },
  {
   "cell_type": "code",
   "execution_count": 27,
   "id": "2174d2d7-b9f8-4c94-975f-31ff8413fc7a",
   "metadata": {},
   "outputs": [
    {
     "name": "stdout",
     "output_type": "stream",
     "text": [
      "Sum Of List: 89\n"
     ]
    }
   ],
   "source": [
    "add1(2,3,4,5,67,8)     # * may convert arguments in a tuple form automatically"
   ]
  },
  {
   "cell_type": "markdown",
   "id": "d332f03f-3b48-4360-8e7f-b76e8c2d7d45",
   "metadata": {},
   "source": [
    "# Local Variable:\n",
    "                Local variables are declared inside the function blocks. In Python, local variables can be declared at any location in the code block.\n",
    "# Global Variable:\n",
    "                Global variables are the types of variables that are declared outside of every function of the program. The global variable, in contrast to local variables, is accessible by all functions in a program. Global variables are not very reliable because any function in the program can alter its value.\n"
   ]
  },
  {
   "cell_type": "markdown",
   "id": "96570790-bfed-4c4a-b530-eb08183ebf7e",
   "metadata": {},
   "source": [
    "# Anonymous Function\n",
    "# Lambda:\n",
    "          A lambda function is a small anonymous function.\n",
    "\n",
    "A lambda function can take any number of arguments, but can only have one expression.\n",
    "The power of lambda is better shown when you use them as an anonymous function inside another function."
   ]
  },
  {
   "cell_type": "code",
   "execution_count": 1,
   "id": "47f1a187-9008-4367-b71c-f5f031df81e2",
   "metadata": {},
   "outputs": [],
   "source": [
    "anny=lambda a,b:print(a+b)      # Lambda contain only one expression in its self "
   ]
  },
  {
   "cell_type": "code",
   "execution_count": 2,
   "id": "5bf40753-88ab-4f89-a661-a5277b4669eb",
   "metadata": {},
   "outputs": [
    {
     "data": {
      "text/plain": [
       "<function __main__.<lambda>(a, b)>"
      ]
     },
     "execution_count": 2,
     "metadata": {},
     "output_type": "execute_result"
    }
   ],
   "source": [
    "anny"
   ]
  },
  {
   "cell_type": "code",
   "execution_count": 3,
   "id": "61937103-a9c0-4e13-bcbd-b62ba4ec8f47",
   "metadata": {},
   "outputs": [
    {
     "name": "stdout",
     "output_type": "stream",
     "text": [
      "30\n"
     ]
    }
   ],
   "source": [
    "x=10\n",
    "y=20\n",
    "xy=x+y\n",
    "print(xy)"
   ]
  },
  {
   "cell_type": "code",
   "execution_count": 6,
   "id": "7c3510b5-7994-445f-a4a2-43fc1e5a50f5",
   "metadata": {},
   "outputs": [
    {
     "name": "stdout",
     "output_type": "stream",
     "text": [
      "200\n"
     ]
    }
   ],
   "source": [
    "def qw():\n",
    "    print(x*y)\n",
    "qw()"
   ]
  },
  {
   "cell_type": "code",
   "execution_count": 8,
   "id": "952b7d29-9998-4b41-a0a6-b58896a7117d",
   "metadata": {},
   "outputs": [
    {
     "name": "stdout",
     "output_type": "stream",
     "text": [
      "600\n"
     ]
    }
   ],
   "source": [
    "def qa():\n",
    "    xx=30\n",
    "    yy=20\n",
    "    print(xx*yy)\n",
    "qa()"
   ]
  },
  {
   "cell_type": "code",
   "execution_count": 9,
   "id": "7a935e6a-93f7-42cf-a427-06d5daf4a803",
   "metadata": {},
   "outputs": [
    {
     "ename": "NameError",
     "evalue": "name 'xx' is not defined",
     "output_type": "error",
     "traceback": [
      "\u001b[1;31m---------------------------------------------------------------------------\u001b[0m",
      "\u001b[1;31mNameError\u001b[0m                                 Traceback (most recent call last)",
      "\u001b[1;32m~\\AppData\\Local\\Temp\\ipykernel_6808\\1221583827.py\u001b[0m in \u001b[0;36m<module>\u001b[1;34m\u001b[0m\n\u001b[1;32m----> 1\u001b[1;33m \u001b[0mprint\u001b[0m\u001b[1;33m(\u001b[0m\u001b[0mxx\u001b[0m\u001b[1;33m+\u001b[0m\u001b[0myy\u001b[0m\u001b[1;33m)\u001b[0m\u001b[1;33m\u001b[0m\u001b[1;33m\u001b[0m\u001b[0m\n\u001b[0m",
      "\u001b[1;31mNameError\u001b[0m: name 'xx' is not defined"
     ]
    }
   ],
   "source": [
    "print(xx+yy)"
   ]
  },
  {
   "cell_type": "code",
   "execution_count": 11,
   "id": "5688c9e5-8661-4aa4-913d-1d2697a20b9a",
   "metadata": {},
   "outputs": [
    {
     "name": "stdout",
     "output_type": "stream",
     "text": [
      "600\n"
     ]
    }
   ],
   "source": [
    "def qaa():\n",
    "    global xxx,yyy      # create a local variable into global variable\n",
    "    xxx=30\n",
    "    yyy=20\n",
    "    print(xxx*yyy)\n",
    "qaa()"
   ]
  },
  {
   "cell_type": "code",
   "execution_count": 12,
   "id": "35a42375-c59f-450e-a363-ef7990f0e77f",
   "metadata": {},
   "outputs": [
    {
     "name": "stdout",
     "output_type": "stream",
     "text": [
      "50\n"
     ]
    }
   ],
   "source": [
    "print(xxx+yyy)"
   ]
  },
  {
   "cell_type": "code",
   "execution_count": 17,
   "id": "4186633f-46f3-4295-9b4b-9fbdbd119e56",
   "metadata": {},
   "outputs": [
    {
     "name": "stdout",
     "output_type": "stream",
     "text": [
      "50\n"
     ]
    }
   ],
   "source": [
    "def sum1():\n",
    "    xx=30\n",
    "    yy=20\n",
    "    print(xx+yy)\n",
    "sum1()"
   ]
  },
  {
   "cell_type": "code",
   "execution_count": 18,
   "id": "cf530b9b-988a-462d-8eb2-9aa7683a42db",
   "metadata": {},
   "outputs": [
    {
     "name": "stdout",
     "output_type": "stream",
     "text": [
      "50\n"
     ]
    }
   ],
   "source": [
    "zz=sum1()"
   ]
  },
  {
   "cell_type": "code",
   "execution_count": 19,
   "id": "6f7ae956-d2eb-4149-97cb-dbb167e6ad92",
   "metadata": {},
   "outputs": [],
   "source": [
    "zz"
   ]
  },
  {
   "cell_type": "code",
   "execution_count": 20,
   "id": "83389482-8616-4cb9-be8c-c362d1323daa",
   "metadata": {},
   "outputs": [
    {
     "ename": "TypeError",
     "evalue": "unsupported operand type(s) for +: 'NoneType' and 'int'",
     "output_type": "error",
     "traceback": [
      "\u001b[1;31m---------------------------------------------------------------------------\u001b[0m",
      "\u001b[1;31mTypeError\u001b[0m                                 Traceback (most recent call last)",
      "\u001b[1;32m~\\AppData\\Local\\Temp\\ipykernel_6808\\3218983170.py\u001b[0m in \u001b[0;36m<module>\u001b[1;34m\u001b[0m\n\u001b[1;32m----> 1\u001b[1;33m \u001b[0mzz\u001b[0m\u001b[1;33m+\u001b[0m\u001b[1;36m20\u001b[0m\u001b[1;33m\u001b[0m\u001b[1;33m\u001b[0m\u001b[0m\n\u001b[0m",
      "\u001b[1;31mTypeError\u001b[0m: unsupported operand type(s) for +: 'NoneType' and 'int'"
     ]
    }
   ],
   "source": [
    "zz+20"
   ]
  },
  {
   "cell_type": "code",
   "execution_count": 21,
   "id": "65ade79d-dab4-4a8a-adbf-21698b9667aa",
   "metadata": {},
   "outputs": [
    {
     "data": {
      "text/plain": [
       "50"
      ]
     },
     "execution_count": 21,
     "metadata": {},
     "output_type": "execute_result"
    }
   ],
   "source": [
    "def sum2():\n",
    "    xx=30\n",
    "    yy=20\n",
    "    return xx+yy   \n",
    "sum2()"
   ]
  },
  {
   "cell_type": "code",
   "execution_count": 23,
   "id": "44928900-a669-4635-a36c-6fa44c15cdf8",
   "metadata": {},
   "outputs": [],
   "source": [
    "zzz=sum2()"
   ]
  },
  {
   "cell_type": "code",
   "execution_count": 24,
   "id": "17a44deb-f6c2-404e-896b-8e741270143c",
   "metadata": {},
   "outputs": [
    {
     "data": {
      "text/plain": [
       "50"
      ]
     },
     "execution_count": 24,
     "metadata": {},
     "output_type": "execute_result"
    }
   ],
   "source": [
    "zzz"
   ]
  },
  {
   "cell_type": "code",
   "execution_count": 25,
   "id": "c91ec628-5a96-43d5-bdce-d4858540d844",
   "metadata": {},
   "outputs": [
    {
     "data": {
      "text/plain": [
       "150"
      ]
     },
     "execution_count": 25,
     "metadata": {},
     "output_type": "execute_result"
    }
   ],
   "source": [
    "zzz+100"
   ]
  },
  {
   "cell_type": "code",
   "execution_count": 9,
   "id": "e575b0c6-99fa-448f-a9fd-a8f4599a9d4b",
   "metadata": {},
   "outputs": [],
   "source": [
    "def intro():\n",
    "    print(\"I am AI Trainer\")"
   ]
  },
  {
   "cell_type": "code",
   "execution_count": 11,
   "id": "dabc1e29-f1ac-4c62-b2a4-111bbdb5b6fe",
   "metadata": {},
   "outputs": [
    {
     "name": "stdout",
     "output_type": "stream",
     "text": [
      "I am AI Trainer\n"
     ]
    }
   ],
   "source": [
    "intro()"
   ]
  },
  {
   "cell_type": "code",
   "execution_count": 10,
   "id": "6e8d2aa6-b9f0-472b-9ba6-b7806244e108",
   "metadata": {},
   "outputs": [
    {
     "name": "stdout",
     "output_type": "stream",
     "text": [
      "I am Shadab ALam\n",
      "I am AI Trainer\n"
     ]
    }
   ],
   "source": [
    "def super(arg):                            #Step 3\n",
    "    def inner ():                          # 5\n",
    "        print(\"I am Shadab ALam\")\n",
    "        arg()\n",
    "    return inner                           # 4\n",
    "val=super(intro)                           #Step 2\n",
    "val()                                      #Step 1"
   ]
  },
  {
   "cell_type": "code",
   "execution_count": null,
   "id": "818f5f5e-92dc-4051-ae2d-900ea5819b69",
   "metadata": {},
   "outputs": [],
   "source": []
  }
 ],
 "metadata": {
  "kernelspec": {
   "display_name": "Python 3 (ipykernel)",
   "language": "python",
   "name": "python3"
  },
  "language_info": {
   "codemirror_mode": {
    "name": "ipython",
    "version": 3
   },
   "file_extension": ".py",
   "mimetype": "text/x-python",
   "name": "python",
   "nbconvert_exporter": "python",
   "pygments_lexer": "ipython3",
   "version": "3.9.13"
  }
 },
 "nbformat": 4,
 "nbformat_minor": 5
}
